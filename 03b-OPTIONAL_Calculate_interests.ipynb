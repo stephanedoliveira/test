{
  "cells": [
    {
      "cell_type": "markdown",
      "metadata": {
        "id": "1NCGks54kp_n",
        "colab_type": "text"
      },
      "source": [
        "# How much do you get for your savings ?"
      ]
    },
    {
      "cell_type": "markdown",
      "metadata": {
        "id": "75Xe4f7vksGZ",
        "colab_type": "text"
      },
      "source": [
        "It is said that if Christopher Columbus had set aside €1 that he had left at 2% interest per year, today his heirs would no longer need to work to live their lives. Let's try to calculate the same thing for our savings. "
      ]
    },
    {
      "cell_type": "markdown",
      "metadata": {
        "id": "v4ugjwIakv2c",
        "colab_type": "text"
      },
      "source": [
        "1. So let's create a function that will allow us to know how much money a user will have in total after a certain number of years.\n",
        "\n",
        "2. The user should be able to call the function which will then ask for :\n",
        "\n",
        "    1. The total amount he wishes to place\n",
        "    2. The number of years he wants to invest his money for\n",
        "    3. The rate of interest to which he is entitled\n",
        "    \n",
        "3. Pay attention to the errors that the user may enter.\n",
        "\n",
        "    4. If he enters a string of characters rather than a number, an error should be displayed.\n",
        "    5. If the user enters negative numbers, an error should also be output.\n",
        "    6. Finally, it is very likely that the user will write the interest rate as a percentage (e.g. 10%). Raise an error if this is the case, to prevent him from inputting a percentage.\n",
        "    \n",
        "4. Finally, the program should only show one number with a maximum of two digits after the decimal point.\n"
      ]
    },
    {
      "cell_type": "code",
      "execution_count": 4,
      "metadata": {
        "colab": {
          "base_uri": "https://localhost:8080/",
          "height": 173
        },
        "colab_type": "code",
        "id": "ovkcocqXkp2k",
        "outputId": "c6b46d9b-3503-4490-f19a-4a7e35194eea"
      },
      "outputs": [],
      "source": []
    },
    {
      "cell_type": "code",
      "metadata": {
        "id": "K_2poSknltX4",
        "colab_type": "code",
        "colab": {},
        "tags": []
      },
      "source": [],
      "execution_count": 5,
      "outputs": [
        {
          "output_type": "stream",
          "name": "stdout",
          "text": "1000.0\n10.0\n0.1\nThe total amount of money you will have after you deposit 1000.00 at the end of 10.0 years will be 2593.74 €\n"
        }
      ]
    }
  ],
  "metadata": {
    "colab": {
      "name": "Fondamentaux Python - Mini Projets S1-2B.ipynb",
      "version": "0.3.2",
      "provenance": []
    },
    "kernelspec": {
      "name": "python3",
      "display_name": "Python 3"
    }
  },
  "nbformat": 4,
  "nbformat_minor": 0
}